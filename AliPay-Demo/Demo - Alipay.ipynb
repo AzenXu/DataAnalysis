{
 "cells": [
  {
   "cell_type": "code",
   "execution_count": 26,
   "metadata": {},
   "outputs": [
    {
     "name": "stdout",
     "output_type": "stream",
     "text": [
      "import done\n"
     ]
    },
    {
     "data": {
      "image/png": "[encoded data removed]",
      "text/plain": [
       "<Figure size 864x288 with 1 Axes>"
      ]
     },
     "metadata": {
      "needs_background": "light"
     },
     "output_type": "display_data"
    }
   ],
   "source": [
    "import numpy as np\n",
    "import pandas as pd\n",
    "import matplotlib.pyplot as plt\n",
    "import matplotlib.style as psl\n",
    "psl.use('seaborn-colorblind')\n",
    "plt.show()\n",
    "print('import done')\n",
    "\n",
    "def caculate_tax(salary):\n",
    "    tax = 0\n",
    "    while salary > 3500:\n",
    "        if salary > 83500:\n",
    "            tax += (salary - 83500) * 0.45\n",
    "            salary = 83500\n",
    "        elif salary > 58500:\n",
    "            tax += (salary - 58500) * 0.35\n",
    "            salary = 58500\n",
    "        elif salary > 38500:\n",
    "            tax += (salary - 38500) * 0.3\n",
    "            salary = 38500\n",
    "        elif salary > 12500:\n",
    "            tax += (salary - 12500) * 0.25\n",
    "            salary = 12500\n",
    "        elif salary > 8000:\n",
    "            tax += (salary - 8000) * 0.2\n",
    "            salary = 8000\n",
    "        elif salary > 4500:\n",
    "            tax += (salary - 4500) * 0.1\n",
    "            salary = 4500\n",
    "        elif salary > 3500:\n",
    "            tax += (salary - 3500) * 0.03\n",
    "            salary = 3500    \n",
    "    return tax\n",
    "\n",
    "# print(tax_total(50000))\n",
    "\n",
    "def caculate_insurance(salary):\n",
    "    if salary <= 21396:\n",
    "        return salary * 0.175\n",
    "    else:\n",
    "        return 3744.58\n",
    "# print(insurance_caculate(15000))\n",
    "\n",
    "def bonus_mock(b_avg):\n",
    "    # 模拟十年奖金 - 120个正态分布的数字，均值为b_avg，标准差为200\n",
    "    return pd.Series(np.random.normal(loc = b_avg, scale = 200, size = 120))\n",
    "\n",
    "# test_bonus = bonus_mock(1500)\n",
    "# print(test_bonus[:10])\n",
    "# plt.title(\"奖金模拟 - 数据分部直方图\")\n",
    "## hist - histogram - 矩阵图\n",
    "## bins - 条形数 - 分组数\n",
    "# plt.hist(test_bonus, bins = 10)\n",
    "# plt.grid()\n",
    "\n",
    "# print([\"🏊‍♀️\" for i in range(5)])\n",
    "\n",
    "def caculate_final_income(salary, bonus_average):\n",
    "    data_frame_income = pd.DataFrame({\n",
    "        '月薪': [salary for i in range(120)],\n",
    "        '五险一金': [caculate_insurance(salary) for i in range(120)],\n",
    "        '奖金': bonus_mock(bonus_average)\n",
    "    })\n",
    "    data_frame_income['计税部分'] = data_frame_income['月薪'] + data_frame_income['奖金']\n",
    "    # apply()方法默认作用于所有数据\n",
    "    # lambda作为一个表达式，定义了一个匿名函数 - x是入参，冒号后面是运算方法\n",
    "    data_frame_income['个人所得税'] = data_frame_income['计税部分'].apply(lambda x : caculate_tax(x))\n",
    "    data_frame_income['月净收入'] = data_frame_income['月薪'] - data_frame_income['五险一金'] - data_frame_income['个人所得税']\n",
    "    \n",
    "    return data_frame_income\n",
    "\n",
    "# test_result = caculate_final_income(10000, 1500)\n",
    "# test_result.head() # 展示前5条\n",
    "\n",
    "# # iloc：按index取值\n",
    "# test_result['月净收入'].iloc[:12].plot(kind='bar', figsize = (12,4), color='Green')\n",
    "# plt.title('月净收入 - 前12个月')\n",
    "# plt.grid()\n"
   ]
  },
  {
   "cell_type": "code",
   "execution_count": null,
   "metadata": {},
   "outputs": [],
   "source": []
  }
 ],
 "metadata": {
  "kernelspec": {
   "display_name": "Python 3",
   "language": "python",
   "name": "python3"
  },
  "language_info": {
   "codemirror_mode": {
    "name": "ipython",
    "version": 3
   },
   "file_extension": ".py",
   "mimetype": "text/x-python",
   "name": "python",
   "nbconvert_exporter": "python",
   "pygments_lexer": "ipython3",
   "version": "3.7.6"
  }
 },
 "nbformat": 4,
 "nbformat_minor": 4
}
